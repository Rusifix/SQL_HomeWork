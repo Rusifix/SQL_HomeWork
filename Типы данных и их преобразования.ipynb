{
 "cells": [
  {
   "cell_type": "markdown",
   "id": "f2a94b68-f699-497e-ab52-9b53d685c1cc",
   "metadata": {},
   "source": [
    "# ТИПЫ ДАННЫХ И ИХ ПРЕОБРАЗОВАНИЕ"
   ]
  },
  {
   "cell_type": "markdown",
   "id": "e34c8411-bea9-4730-be7a-b615f69fe5e8",
   "metadata": {},
   "source": [
    "Далее в заданиях используются данные с платформы Airbnb в Берлине ✈️.\n",
    "\n",
    "Имеются следующие таблицы:\n",
    "    \n",
    "1. `listings` – информация о жилье, включая полные описания, характеристики и средние оценки в отзывах; поскольку столбцов очень много, нужные перечислены в текстах самих задач;  \n",
    "2. `calendar_summary` – информация о доступности и цене того или иного жилья по дням  \n",
    "    listing_id – идентификатор жилья (объявления)  \n",
    "    date       – дата  \n",
    "    available  – доступность жилья в данный день (t/f)  \n",
    "    price      – цена за ночь  \n",
    "\n",
    "3. `reviews` – отзывы  \n",
    "    listing_id   –  идентификатор жилья      \n",
    "    id  – id отзыва   \n",
    "    date  – дата отзыва      \n",
    "    reviewer_id  – id ревьюера (автора отзыва)  \n",
    "    reviewer_name  – имя автора  \n",
    "    comments – сам отзыв  "
   ]
  },
  {
   "cell_type": "markdown",
   "id": "48dbce8f-1895-447f-b60a-506ce130939a",
   "metadata": {},
   "source": [
    "# 1"
   ]
  },
  {
   "cell_type": "markdown",
   "id": "ff6a3d64-e5a6-4bae-a03a-d77029a7a93e",
   "metadata": {},
   "source": [
    "На Airbnb есть две основные группы пользователей:\n",
    "\n",
    "· Хозяева (хосты, hosts) – сдают жилье  \n",
    "· Путешественники (travelers) – снимают  \n",
    "Начнем с анализа характеристик хозяев в таблице listings!   \n",
    "\n",
    "Пользователи, сдающие квартиры на Airbnb, зарегистрировались в разное время. Кто-то – очень давно, а кто-то совсем недавно. Давайте проверим, в какой месяц и год зарегистрировалось наибольшее количество новых хостов. В качестве ответа введите дату следующего формата: 2010-12\n",
    "\n",
    "· host_id – идентификатор хозяина  \n",
    "· host_since – дата регистрации как хост  \n",
    "Note: Сам хост может встретиться в таблице несколько раз, если сдает несколько помещений, поэтому не забудьте оставить уникальные значения host_id. Также обратите внимание на тип данных в host_since, возможно вам пригодится toStartOfMonth() для извлечения части даты и toDateOrNull() для обработки пустых значений."
   ]
  },
  {
   "cell_type": "code",
   "execution_count": null,
   "id": "2b1a00fb-f720-4e85-8bcf-31af0249afcd",
   "metadata": {},
   "outputs": [],
   "source": [
    "select  toStartOfMonth(toDateOrNull(host_since)) as reg_host, count(distinct host_id) as host\n",
    "from listings\n",
    "group by toStartOfMonth(toDateOrNull(host_since))\n",
    "order by count(distinct host_id) desc\n",
    "limit 100"
   ]
  },
  {
   "cell_type": "markdown",
   "id": "1350b05b-e45b-4c52-b3d5-5924c0eddc4b",
   "metadata": {
    "tags": []
   },
   "source": [
    "# 2"
   ]
  },
  {
   "cell_type": "markdown",
   "id": "b5ec144e-b174-4aea-9460-aebbdb3f8018",
   "metadata": {},
   "source": [
    "Посмотрим на среднюю частоту ответа среди хозяев (f) и суперхозяев (t).\n",
    "\n",
    "Значения частоты ответа хранятся как строки и включают значок %, который необходимо заменить на пустоту (''). После этого приведите столбец к нужному типу данных с помощью toInt32OrNull() и посчитайте среднюю частоту отклика в разбивке по тому, является ли хост суперхозяином или нет. В качестве ответа укажите наибольшее среднее.\n",
    "\n",
    "· host_response_rate – частота ответа  \n",
    "· host_is_superhost – является ли суперхозяином  \n",
    "Важный момент: у каждого host_id есть только одно уникальное значение частоты ответа, а также одна единая отметка суперхозяина. Чтобы посчитать показатели честно, нужно использовать подзапрос и взять уникальные комбинации с помощью DISTINCT."
   ]
  },
  {
   "cell_type": "code",
   "execution_count": null,
   "id": "fbcab84b-ac11-4321-ab18-b42f70355c9a",
   "metadata": {},
   "outputs": [],
   "source": [
    "select host_is_superhost ,avg(toInt32OrNull(replaceAll(host_response_rate, '%', ''))) as Avg_response_rate \n",
    "from (\n",
    "    select distinct host_id, host_is_superhost, host_response_rate\n",
    "    from listings\n",
    ")\n",
    "where host_is_superhost = 't' or host_is_superhost = 'f'\n",
    "group by host_is_superhost\n",
    "limit 50"
   ]
  },
  {
   "cell_type": "markdown",
   "id": "77db70ed-a6e9-4e9e-9cde-c2862de4e075",
   "metadata": {},
   "source": [
    "# 3"
   ]
  },
  {
   "cell_type": "markdown",
   "id": "94f282e0-9df4-495a-b4ed-7f4ef22d17f1",
   "metadata": {},
   "source": [
    "Сгруппируйте данные из listings по хозяевам (host_id) и посчитайте, какую цену за ночь в среднем каждый из них устанавливает (у одного хоста может быть несколько объявлений). Идентификаторы сдаваемого жилья объедините в отдельный массив. Таблицу отсортируйте по убыванию средней цены и убыванию host_id (в таком порядке). В качестве ответа укажите первый массив в результирующей таблице, состоящий более чем из двух id.  \n",
    "· host_id – идентификатор хозяина  \n",
    "· id – идентификатор жилья  \n",
    "· price – цена за ночь в конкретном месте"
   ]
  },
  {
   "cell_type": "code",
   "execution_count": null,
   "id": "3cd89e51-1182-4b21-bac6-344b41a45ddb",
   "metadata": {},
   "outputs": [],
   "source": [
    "select host_id, groupArray(id) as all_id ,avg(toFloat64OrNull(replaceAll(price,'$',''))) as avg_price\n",
    "from listings\n",
    "group by host_id\n",
    "order by avg(toFloat64OrNull(replaceAll(price,'$',''))) desc, host_id desc\n",
    "limit 50"
   ]
  },
  {
   "cell_type": "markdown",
   "id": "9a9dd0f3-a934-40a5-91ec-c2f354b0bc12",
   "metadata": {},
   "source": [
    "# 4"
   ]
  },
  {
   "cell_type": "markdown",
   "id": "aed7cc11-450d-4546-9df0-b42b18e13dae",
   "metadata": {},
   "source": [
    "Немного усложним предыдущую задачу, и посчитаем разницу между максимальной и минимальной установленной ценой у каждого хозяина. В качестве ответа укажите идентификатор хоста, у которого разница оказалась наибольшей. \n",
    "\n",
    "· host_id – идентификатор хозяина  \n",
    "· id – идентификатор жилья  \n",
    "· price – цена за ночь в конкретном месте"
   ]
  },
  {
   "cell_type": "code",
   "execution_count": null,
   "id": "05fdba12-be69-4257-850e-d4f018ccaf5b",
   "metadata": {},
   "outputs": [],
   "source": [
    "select host_id, groupArray(id) as all_id ,(max(toFloat64OrNull(replaceAll(price,'$',''))) - min(toFloat64OrNull(replaceAll(price,'$','')))) as diff_price\n",
    "from listings\n",
    "group by host_id\n",
    "order by max(toFloat64OrNull(replaceAll(price,'$',''))) - min(toFloat64OrNull(replaceAll(price,'$',''))) desc, host_id desc\n",
    "limit 50"
   ]
  },
  {
   "cell_type": "markdown",
   "id": "f1be0765-cf49-4464-b621-4ccad1ae3ef0",
   "metadata": {},
   "source": [
    "# 5"
   ]
  },
  {
   "cell_type": "markdown",
   "id": "768306ec-23c5-41a5-b56c-2d426b50b92a",
   "metadata": {},
   "source": [
    "Теперь сгруппируйте данные по типу жилья и выведите средние значения цены за ночь, размера депозита и цены уборки. Обратите внимание на тип данных, наличие значка $ и запятых в больших суммах. Для какого типа жилья среднее значение залога наибольшее? \n",
    "\n",
    "· room_type – тип сдаваемого жилья   \n",
    "· price – цена за ночь   \n",
    "· security_deposit – залог за сохранность имущества  \n",
    "· cleaning_fee – плата за уборку"
   ]
  },
  {
   "cell_type": "code",
   "execution_count": null,
   "id": "e6f81198-d8cc-494b-83cd-edc8e89bf3f9",
   "metadata": {},
   "outputs": [],
   "source": [
    "select room_type, avg(toFloat64OrNull(replaceAll(price,'$',''))) as avg_price,\n",
    "avg(toFloat64OrNull(replaceAll(security_deposit,'$',''))) as avg_dep,\n",
    "avg(toFloat64OrNull(replaceAll(cleaning_fee,'$',''))) as avg_cleaning\n",
    "from listings\n",
    "group by room_type\n",
    "order by avg_price desc"
   ]
  },
  {
   "cell_type": "markdown",
   "id": "e69d4e57-8f96-4b7f-ba4c-1c2ffbca17eb",
   "metadata": {},
   "source": [
    "# 6"
   ]
  },
  {
   "cell_type": "markdown",
   "id": "8bde8126-e465-4636-a599-7fb4564af000",
   "metadata": {},
   "source": [
    "Отлично! В каких частях города средняя стоимость за ночь является наиболее низкой? \n",
    "\n",
    "Сгруппируйте данные по neighbourhood_cleansed и посчитайте среднюю цену за ночь в каждом районе. В качестве ответа введите название места, где средняя стоимость за ночь ниже всего.\n",
    "\n",
    "· price – цена за ночь  \n",
    "· neighbourhood_cleansed – район/округ города"
   ]
  },
  {
   "cell_type": "code",
   "execution_count": null,
   "id": "f49082fa-f852-4611-9386-7e11864b9538",
   "metadata": {},
   "outputs": [],
   "source": [
    "select neighbourhood_cleansed, min(toFloat64OrNull(replaceAll(price,'$',''))) as min_price\n",
    "from listings\n",
    "group by neighbourhood_cleansed\n",
    "having min_price > 0\n",
    "order by min_price asc"
   ]
  },
  {
   "cell_type": "markdown",
   "id": "60f678df-f879-47b1-8a6c-e67242650204",
   "metadata": {},
   "source": [
    "# 7"
   ]
  },
  {
   "cell_type": "markdown",
   "id": "a71f9c5b-97c2-405f-a6af-e81520d9bd12",
   "metadata": {},
   "source": [
    "В каких районах Берлина средняя площадь жилья, которое сдаётся целиком, является наибольшей? Отсортируйте по среднему и выберите топ-3. \n",
    "\n",
    "· neighbourhood_cleansed – район   \n",
    "· square_feet – площадь  \n",
    "· room_type – тип (нужный – 'Entire home/apt')"
   ]
  },
  {
   "cell_type": "code",
   "execution_count": null,
   "id": "168a30d0-4a42-4ccb-8692-79dbc8334623",
   "metadata": {},
   "outputs": [],
   "source": [
    "select neighbourhood_cleansed, avg(toFloat64OrNull(square_feet)) as avg_square\n",
    "from listings\n",
    "where room_type = 'Entire home/apt'\n",
    "group by neighbourhood_cleansed\n",
    "order by avg_square desc\n",
    "limit 3"
   ]
  }
 ],
 "metadata": {
  "kernelspec": {
   "display_name": "Python 3 (ipykernel)",
   "language": "python",
   "name": "python3"
  },
  "language_info": {
   "codemirror_mode": {
    "name": "ipython",
    "version": 3
   },
   "file_extension": ".py",
   "mimetype": "text/x-python",
   "name": "python",
   "nbconvert_exporter": "python",
   "pygments_lexer": "ipython3",
   "version": "3.11.5"
  }
 },
 "nbformat": 4,
 "nbformat_minor": 5
}
