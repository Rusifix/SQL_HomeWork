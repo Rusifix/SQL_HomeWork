{
 "cells": [
  {
   "cell_type": "markdown",
   "id": "3222eeea-743c-4770-b018-e1861cd13395",
   "metadata": {},
   "source": [
    "<h1>ВВЕДЕНИЕ И ОПЕРАТОРЫ</h1>"
   ]
  },
  {
   "cell_type": "markdown",
   "id": "523469a6-52ad-444b-a6cf-1d0a5f83a0d0",
   "metadata": {
    "tags": []
   },
   "source": [
    "<p><b>1</b><br>\n",
    "Дана таблица checks:\n",
    "<br>\n",
    "· Rub — идентификатор пользователя;<br>\n",
    "· BuyDate — суммарный чек пользователя на дату;<br>\n",
    "· UserID — дата, за которую собрана статистика.<br>\n",
    "<br>\n",
    "Чтобы взглянуть на колонки этой таблицы и получить первое представление о ее данных, выведите первые 10 строк таблицы checks</p>"
   ]
  },
  {
   "cell_type": "code",
   "execution_count": null,
   "id": "37c56c5a-65c1-463d-9613-7088eb911d6d",
   "metadata": {},
   "outputs": [],
   "source": [
    "select Rub, BuyDate, UserID\n",
    "from checks\n",
    "limit 10"
   ]
  },
  {
   "cell_type": "markdown",
   "id": "a4970e17-eed5-4893-9a39-1f20c4170c92",
   "metadata": {},
   "source": [
    "<p><b>2</b><br>\n",
    "Давайте посмотрим на топ-10 платежей по сумме в рублях. Выведите первые 10 строк таблицы checks, но теперь отсортировав значения Rub по убыванию.</p>"
   ]
  },
  {
   "cell_type": "code",
   "execution_count": null,
   "id": "ddb21b45-c6e4-4a07-bd1d-0693daa2edef",
   "metadata": {},
   "outputs": [],
   "source": [
    "select Rub, BuyDate, UserID\n",
    "from checks\n",
    "order by Rub desc\n",
    "limit 10"
   ]
  },
  {
   "cell_type": "markdown",
   "id": "184d0bba-ca96-442b-ab15-e1cd9e8155a9",
   "metadata": {},
   "source": [
    "<p><b>3</b><br>\n",
    "Для работы бывает удобно переименовать колонки таблицы. Выведите первые 15 строк таблицы checks, переименовав поле Rub в Revenue и используя сортировку по возрастанию столбца UserID. Разместите столбцы в запросе в следующем порядке revenue, buydate, userid.</p>"
   ]
  },
  {
   "cell_type": "code",
   "execution_count": null,
   "id": "1d0dec6f-bebd-429b-8c81-05edb6e4d2a9",
   "metadata": {
    "tags": []
   },
   "outputs": [],
   "source": [
    "select Rub as Revenue, BuyDate, UserID\n",
    "from checks\n",
    "order by UserID\n",
    "limit 15"
   ]
  },
  {
   "cell_type": "markdown",
   "id": "c502c944-8147-4a1b-8a08-ac1beb00e21a",
   "metadata": {},
   "source": [
    "<p><b>4</b><br>\n",
    "Проверьте, данные за какой период имеются в таблице. Для этого используйте MIN и MAX по колонке BuyDate. Колонки с минимальным и максимальным значением назовите MinDate и MaxDate соответственно.</p>"
   ]
  },
  {
   "cell_type": "code",
   "execution_count": null,
   "id": "fdee0a96-e991-4474-8f12-e53de429a1ce",
   "metadata": {},
   "outputs": [],
   "source": [
    "select \n",
    "    min(BuyDate) as MinDate,\n",
    "    max(BuyDate) as MaxDate\n",
    "from checks"
   ]
  },
  {
   "cell_type": "markdown",
   "id": "f978a044-85f8-45c7-ba77-49bf583a4e97",
   "metadata": {},
   "source": [
    "<p><b>5</b><br>\n",
    "Предположим, что перед нами стоит задача отобрать несколько групп пользователей по разным критериям, чтобы отправить им персональные сообщения об акциях. Например, первым 10 пользователям, зарегистрировавшимся на сайте (чем раньше зарегистрировался пользователь, тем меньше его UserID), мы хотим подарить скидку на следующую покупку.\n",
    "\n",
    "Выведите UserID 10 уникальных покупателей, используя оператор DISTINCT. Таблицу отсортируйте по UserID в порядке возрастания.</p>"
   ]
  },
  {
   "cell_type": "code",
   "execution_count": null,
   "id": "4a85b871-f848-4f23-98b4-77986bc02453",
   "metadata": {},
   "outputs": [],
   "source": [
    "select DISTINCT UserID\n",
    "from checks\n",
    "order by UserID\n",
    "limit 10 "
   ]
  },
  {
   "cell_type": "markdown",
   "id": "cddbb6d4-1b62-4f29-9400-cffc16bbe7f7",
   "metadata": {},
   "source": [
    "<p><b>6</b><br>\n",
    "Мы хотим сформировать новую акцию к 8 марта, и для этого нас интересуют самые крупные покупки, совершенные в этот день в прошлом году.\n",
    "\n",
    "Выведите информацию о продажах, которые были совершены 8 марта 2019 года, используя блок WHERE применительно к полю BuyDate. Значения отсортируйте по убыванию Rub. Количество строк для извлечения – 10. Дата хранится в таблице в текстовом виде и имеет формат год-месяц-день (‘YYYY-MM-DD’).</p>"
   ]
  },
  {
   "cell_type": "code",
   "execution_count": null,
   "id": "8ffd9729-aa43-4423-a71f-9b3080e1d8e7",
   "metadata": {
    "tags": []
   },
   "outputs": [],
   "source": [
    "select UserID, Rub\n",
    "from checks\n",
    "where BuyDate = '2019-03-08'\n",
    "order by Rub desc\n",
    "limit 10"
   ]
  },
  {
   "cell_type": "markdown",
   "id": "39b6b9a3-bf0b-427b-9a05-8a914901f4cd",
   "metadata": {},
   "source": [
    "<p><b>7</b><br>\n",
    "Мы предполагаем, что пользователи, которые совершили крупные покупки 1 сентября в прошлом году - родители школьников, и в следующем году можно будет подготовить для них акцию на группу товаров.<br><br>\n",
    "Давайте применим WHERE к полям BuyDate и Rub, и посмотрим на уникальные id покупателей из checks, которые совершили покупку 1 сентября 2019 года на сумму более 2 000 рублей. Значения отсортируйте по убыванию UserID.</p>"
   ]
  },
  {
   "cell_type": "code",
   "execution_count": null,
   "id": "0742ae99-df15-4efd-9a69-dc32cfca2082",
   "metadata": {},
   "outputs": [],
   "source": [
    "select distinct UserID, BuyDate, Rub\n",
    "from checks\n",
    "where BuyDate = '2019-09-01' and Rub > 2000\n",
    "order by UserID desc"
   ]
  }
 ],
 "metadata": {
  "kernelspec": {
   "display_name": "Python 3 (ipykernel)",
   "language": "python",
   "name": "python3"
  },
  "language_info": {
   "codemirror_mode": {
    "name": "ipython",
    "version": 3
   },
   "file_extension": ".py",
   "mimetype": "text/x-python",
   "name": "python",
   "nbconvert_exporter": "python",
   "pygments_lexer": "ipython3",
   "version": "3.11.5"
  }
 },
 "nbformat": 4,
 "nbformat_minor": 5
}
