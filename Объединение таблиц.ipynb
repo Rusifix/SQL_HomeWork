{
 "cells": [
  {
   "cell_type": "markdown",
   "id": "e03802e8-88af-4d28-9a53-34288d4c7846",
   "metadata": {},
   "source": [
    "<h1>ОБЪЕДИНЕНИЕ ТАБЛИЦ – JOIN</h1>\n",
    "<p>Описание данных:<br>\n",
    "\n",
    "installs — содержит данные об установках приложения по дням.<br>\n",
    "\n",
    "· DeviceID — идентификатор устройства, на которое было установлено приложение;<br>\n",
    "· InstallationDate — дата установки приложения;<br>\n",
    "· InstallCost — цена установки приложения в рублях;<br>\n",
    "· Platform — платформа, на которой было установлено приложение (iOS/ Android);<br>\n",
    "· Source — источник установки приложения (магазин приложения/ рекламная система/ переход с сайта).<br>\n",
    "\n",
    "events — содержит данные о том, как активно пользователи просматривают товары в приложении по дням.<br>\n",
    "\n",
    "· DeviceID — идентификатор устройства, на котором используется приложение;<br>\n",
    "· AppPlatform — платформа, на которой используется приложение (iOS/ Android);<br>\n",
    "· EventDate — дата, за которую собрана статистика;<br>\n",
    "· events — количество просмотров всех товаров за этот день у этого DeviceID.<br>\n",
    "\n",
    "checks — содержит данные о покупках пользователей в приложении по дням<br>\n",
    "\n",
    "· UserID — идентификатор пользователя;<br>\n",
    "· Rub — суммарный чек пользователя на дату;<br>\n",
    "· BuyDate — дата, за которую собрана статистика.<br>\n",
    "\n",
    "Особенность приложения заключается в том, что для просмотра товаров не нужна авторизация. До момента авторизации про пользователя известен только его DeviceID — идентификатор устройства. При этом для совершения покупки логин обязателен. На моменте авторизации пользователю присваивается UserID, и тогда мы уже знаем два его идентификатора: DeviceID (устройство) и UserID (логин). Так как на этапах установки приложения и просмотра каталога пользователь еще может быть не авторизован, там мы сохраняем только DeviceID. Но так как покупки нельзя совершить без авторизации, то покупки сохраняются только с UserID. Для того чтобы просмотры и установки можно было объединить с покупками, нам нужна таблица соответствия DeviceID к UserID, то есть таблица devices:<br>\n",
    "\n",
    "· DeviceID — идентификатор устройства;<br>\n",
    "· UserID — идентификатор пользователя.</p>"
   ]
  },
  {
   "cell_type": "markdown",
   "id": "9cfd93ae-20b4-4f46-8357-170f51cacdf5",
   "metadata": {},
   "source": [
    "<p><b>1</b><br>\n",
    "У пользователя может быть два идентификатора – UserID и DeviceID. В таблице checks есть только UserID, в остальных – только DeviceID. Во вспомогательной таблице devices есть и UserID, и DeviceID.<br>\n",
    "\n",
    "Давайте с помощью JOIN дополним таблицу events (left) данными о UserID пользователей из таблицы devices (right). Для некоторых DeviceID не будет пары UserID из таблицы devices – подумайте, какой вид JOIN подойдет, чтобы не потерять те строки, где DeviceID есть в events, но нет в devices.<br>\n",
    "\n",
    "Укажите UserID из первой строки результирующей таблицы, используя сортировку по убыванию по полю DeviceID.</p>"
   ]
  },
  {
   "cell_type": "code",
   "execution_count": null,
   "id": "d66c2e5e-55ad-4bf6-97e3-fcd0c37459e2",
   "metadata": {},
   "outputs": [],
   "source": [
    "select AppPlatform, UserID, ev.DeviceID\n",
    "from events ev\n",
    "left join devices dev\n",
    "on ev.DeviceID  = dev.DeviceID\n",
    "order by ev.DeviceID desc"
   ]
  },
  {
   "cell_type": "markdown",
   "id": "c657283d-2be5-4e0c-9116-65c3ff989254",
   "metadata": {},
   "source": [
    "<p><b>2</b><br>\n",
    "Давайте проверим, пользователи пришедшие из какого источника совершили наибольшее число покупок. В качестве ответа выберите название Source, юзеры которого совершили больше всего покупок.<br>\n",
    "\n",
    "Hint: Для этого используйте UserID, DeviceID и Source из соответствующих таблиц. Считать уникальные значения здесь не нужно.</p>"
   ]
  },
  {
   "cell_type": "code",
   "execution_count": null,
   "id": "a86e56a0-a6e8-4740-8794-c2af0331fffc",
   "metadata": {},
   "outputs": [],
   "source": [
    "with sr as ((select UserID, sum(Rub) from checks ch group by UserID order by sum(Rub) desc))\n",
    "\n",
    "select Source\n",
    "from installs ins\n",
    "join devices dev\n",
    "on ins.DeviceID = dev.DeviceID \n",
    "join sr\n",
    "on sr.UserID = dev.UserID\n",
    "limit 10"
   ]
  },
  {
   "cell_type": "markdown",
   "id": "fb4f1c9f-f61f-4acd-a0ee-6b1b59051627",
   "metadata": {},
   "source": [
    "<p><b>3</b><br>\n",
    "Теперь выясним, сколько всего уникальных юзеров что-то купили в нашем приложении.<br>\n",
    "\n",
    "Объедините нужные таблицы, посчитайте число уникальных UserID для каждого источника (Source), и в качестве ответа укажите число пользователей, пришедших из Source_7.<br>\n",
    "\n",
    "Hint: checks – покупки, devices – соответствие, installs – информация об источнике.</p>"
   ]
  },
  {
   "cell_type": "code",
   "execution_count": null,
   "id": "9806cee0-7b0a-4ead-b96b-62b38bbc9fd6",
   "metadata": {},
   "outputs": [],
   "source": [
    "select Source, count(DISTINCT UserID) as Count_uniq_Users\n",
    "from checks\n",
    "join devices\n",
    "on checks.UserID = devices.UserID\n",
    "join installs\n",
    "on installs.DeviceID = devices.DeviceID\n",
    "where Source = 'Source_7'\n",
    "group by Source"
   ]
  },
  {
   "cell_type": "markdown",
   "id": "4358e013-34cb-45f1-9c78-472d5cbfa79d",
   "metadata": {},
   "source": [
    "<p><b>4</b><br>\n",
    "Самое время посмотреть на общую выручку, а также минимальный, максимальный и средний чек. Рассчитайте нужные показатели.</p>"
   ]
  },
  {
   "cell_type": "code",
   "execution_count": null,
   "id": "ff10008d-0655-4edf-848a-503ed6bd929f",
   "metadata": {},
   "outputs": [],
   "source": [
    "select Source, sum(Rub) as Revenue, min(Rub) as MinCheck, max(Rub) as MaxCheck, avg(Rub) as AvgCheck \n",
    "from checks\n",
    "join devices\n",
    "on checks.UserID = devices.UserID\n",
    "join installs\n",
    "on installs.DeviceID = devices.DeviceID\n",
    "group by Source"
   ]
  },
  {
   "cell_type": "markdown",
   "id": "63b02be9-a5f1-4fe3-ba4e-da6415c32656",
   "metadata": {},
   "source": [
    "<p><b>5</b><br>\n",
    "Выведите идентификаторы устройств пользователей, которые совершили как минимум одну покупку за последний месяц (октябрь 2019). Используйте сортировку по возрастанию DeviceID и укажите минимальное значение.<br>\n",
    "\n",
    "Hint: для извлечения месяца из даты можно использовать toMonth() или toStartOfMonth(), предварительно приведя BuyDate к типу</p>"
   ]
  },
  {
   "cell_type": "code",
   "execution_count": null,
   "id": "7ad71ce5-249f-44e4-9c6e-ae8d0cbba733",
   "metadata": {},
   "outputs": [],
   "source": [
    "select DeviceID, count(DeviceID) as Count_Pay\n",
    "from checks ch\n",
    "join devices d\n",
    "on d.UserID = ch.UserID\n",
    "where toStartOfMonth(CAST(BuyDate as Date)) = '2019-10-01'\n",
    "group by DeviceID\n",
    "having count(DeviceID) > 1\n",
    "limit 50"
   ]
  },
  {
   "cell_type": "markdown",
   "id": "3a7545e0-9274-4ae4-accf-7dd016e59450",
   "metadata": {},
   "source": [
    "<p><b>6</b><br>\n",
    "Проверим, сколько товаров (events) в среднем просматривают пользователи с разных платформ (Platform), и пришедшие из разных источников (Source). Для этого объедините таблицы events и installs, и посчитайте, сколько просмотров в среднем приходится на каждую пару платформа-канал привлечения.<br>\n",
    "\n",
    "Отсортируйте полученную табличку по убыванию среднего числа просмотров.</p>"
   ]
  },
  {
   "cell_type": "code",
   "execution_count": null,
   "id": "947f3768-d3e5-4054-87ca-dbb0441bbaff",
   "metadata": {},
   "outputs": [],
   "source": [
    "select \n",
    "    Source,\n",
    "    Platform,\n",
    "    avg(events) as Average_View\n",
    "from events ev\n",
    "join installs ins\n",
    "on ev.DeviceID = ins.DeviceID\n",
    "group by Source, Platform\n",
    "order by avg(events) desc"
   ]
  },
  {
   "cell_type": "markdown",
   "id": "bde98eca-345b-47fe-8b1e-967670f3ca70",
   "metadata": {},
   "source": [
    "<p><b>7</b><br>\n",
    "Давайте посчитаем число уникальных DeviceID в инсталлах, для которых присутствуют просмотры в таблице events с разбивкой по платформам (поле Platform). Для этого можно отобрать все строки только из таблицы installs, для которых нашлось соответствие в таблице events.</p>"
   ]
  },
  {
   "cell_type": "code",
   "execution_count": null,
   "id": "2628a3ac-04b1-450c-a0ff-6be6e4fbd1c9",
   "metadata": {},
   "outputs": [],
   "source": [
    "select count(distinct installs.DeviceID) as Uniq_Device, Platform\n",
    "from installs\n",
    "left join events\n",
    "on events.DeviceID = installs.DeviceID\n",
    "group by Platform"
   ]
  },
  {
   "cell_type": "markdown",
   "id": "a38a3492-67d2-42a4-afcd-5bb76a42a3c8",
   "metadata": {},
   "source": [
    "<p><b>8</b><br>\n",
    "Давайте теперь посчитаем конверсию из инсталла в просмотр с разбивкой по платформе инсталла – в данном случае это доля DeviceID, для которых есть просмотры, от всех DeviceID в инсталлах.<br>\n",
    "\n",
    "Для этого нужно объединить таблицы installs и events так, чтобы получить все DeviceID инсталлов и соответствующие им DeviceID из events, посчитать число уникальных DeviceID инсталлов (1) и соответствующих DeviceID из events (2) и вычислить долю (2) от (1). В качестве ответа укажите значение конверсии из инсталла в просмотр на платформе ios.</p>"
   ]
  },
  {
   "cell_type": "code",
   "execution_count": null,
   "id": "8539f1e9-539d-443e-97ac-002f7d843572",
   "metadata": {},
   "outputs": [],
   "source": [
    "select count(distinct events.DeviceID) / count(distinct installs.DeviceID) as Conversion_Device\n",
    "from installs\n",
    "left join events\n",
    "on events.DeviceID = installs.DeviceID\n",
    "where Platform = 'ios'"
   ]
  }
 ],
 "metadata": {
  "kernelspec": {
   "display_name": "Python 3 (ipykernel)",
   "language": "python",
   "name": "python3"
  },
  "language_info": {
   "codemirror_mode": {
    "name": "ipython",
    "version": 3
   },
   "file_extension": ".py",
   "mimetype": "text/x-python",
   "name": "python",
   "nbconvert_exporter": "python",
   "pygments_lexer": "ipython3",
   "version": "3.11.5"
  }
 },
 "nbformat": 4,
 "nbformat_minor": 5
}
