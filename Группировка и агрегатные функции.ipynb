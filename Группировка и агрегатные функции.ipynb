{
 "cells": [
  {
   "cell_type": "markdown",
   "id": "a8bda44a-612d-41f8-8d0f-116f6cfdfde0",
   "metadata": {},
   "source": [
    "<h1>ГРУППИРОВКА И АГРЕГАТНЫЕ ФУНКЦИИ</h1>"
   ]
  },
  {
   "cell_type": "markdown",
   "id": "934db6c5-7f76-4c57-a69d-e1357c90cc45",
   "metadata": {},
   "source": [
    "<p>В следующих задачах продолжим работать с данными мобильного приложения крупной розничной сети. В этих данных отражено то, как наше приложение устанавливают (installs), как активно в нем просматривают товары (events), как активно в нем покупают (checks), и данные о склейке устройств с логинами (devices).<br>\n",
    "\n",
    "Описание данных:\n",
    "\n",
    "installs — содержит данные об установках приложения по дням.<br>\n",
    "\n",
    "· DeviceID — идентификатор устройства, на которое было установлено приложение;<br>\n",
    "· InstallationDate — дата установки приложения;<br>\n",
    "· InstallCost — цена установки приложения в рублях;<br>\n",
    "· Platform — платформа, на которой было установлено приложение (iOS/ Android);<br>\n",
    "· Source — источник установки приложения (магазин приложения/ рекламная система/ переход с сайта).\n",
    "\n",
    "events — содержит данные о том, как активно пользователи просматривают товары в приложении по дням.<br>\n",
    "\n",
    "· DeviceID — идентификатор устройства, на котором используется приложение;<br>\n",
    "· AppPlatform — платформа, на которой используется приложение (iOS/ Android);<br>\n",
    "· EventDate — дата, за которую собрана статистика;<br>\n",
    "· events — количество просмотров всех товаров за этот день у этого DeviceID.<br>\n",
    "\n",
    "checks — содержит данные о покупках пользователей в приложении по дням<br>\n",
    "\n",
    "· UserID — идентификатор пользователя;<br>\n",
    "· Rub — суммарный чек пользователя на дату;<br>\n",
    "· BuyDate — дата, за которую собрана статистика.<br>\n",
    "\n",
    "Особенность приложения заключается в том, что для просмотра товаров не нужна авторизация. До момента авторизации про пользователя известен только его DeviceID — идентификатор устройства. При этом для совершения покупки логин обязателен. На моменте авторизации пользователю присваивается UserID, и тогда мы уже знаем два его идентификатора: DeviceID (устройство) и UserID (логин). Так как на этапах установки приложения и просмотра каталога пользователь еще может быть не авторизован, там мы сохраняем только DeviceID. Но так как покупки нельзя совершить без авторизации, то покупки сохраняются только с UserID. Для того чтобы просмотры и установки можно было объединить с покупками, нам нужна таблица соответствия DeviceID к UserID, то есть таблица devices:\n",
    "<br><br>\n",
    "· DeviceID — идентификатор устройства;<br>\n",
    "· UserID — идентификатор пользователя.</p>"
   ]
  },
  {
   "cell_type": "markdown",
   "id": "13bb9ad2-b05b-4415-b2bb-687041ef52dd",
   "metadata": {},
   "source": [
    "<p><b>1</b><br>\n",
    "Посчитайте, сколько покупок приходится на каждого клиента, указав имя столбца как NumChecks. Результирующую таблицу с UserID, NumChecks отсортируйте по убыванию (DESC) нового столбца. Ограничение вывода – 10.</p>"
   ]
  },
  {
   "cell_type": "code",
   "execution_count": null,
   "id": "868b01a9-aa42-4673-b238-1d0d24c12b9b",
   "metadata": {},
   "outputs": [],
   "source": [
    "select UserID, count(*) as NumChecks\n",
    "from checks\n",
    "group by UserID\n",
    "order by count(*) desc\n",
    "limit 10"
   ]
  },
  {
   "cell_type": "markdown",
   "id": "f0707e92-ef9d-4919-943a-1ffeabfa8907",
   "metadata": {},
   "source": [
    "<p><b>2</b><br>\n",
    "Давайте немного усложним задачу, и посчитаем ещё и сумму сделанных покупок в рублях (Rub).<br>\n",
    "\n",
    "Выведите в результирующую таблицу UserID клиентов, количество сделанных покупок (NumChecks) и сумму потраченных денег (Revenue). Результат отсортируйте по убыванию Revenue, оставив 10 записей.</p>"
   ]
  },
  {
   "cell_type": "code",
   "execution_count": null,
   "id": "c7eaafb0-4c3f-47d5-a89e-fe7bf9b36432",
   "metadata": {},
   "outputs": [],
   "source": [
    "select UserID, count(*) as NumChecks, sum(Rub) as Revenue\n",
    "from checks\n",
    "group by UserID\n",
    "order by sum(Rub) desc\n",
    "limit 10"
   ]
  },
  {
   "cell_type": "markdown",
   "id": "d3d212f7-1051-4ccb-974c-d110893ff5a5",
   "metadata": {},
   "source": [
    "<p><b>3</b><br>\n",
    "Теперь давайте попробуем с помощью группировки и агрегатных функций посмотреть динамику трат клиентов. Для этого нужно посчитать по дням минимальный, средний, и максимальный чек. Иными словами, необходимо сгруппироваться по датам, и использовать агрегатные функции MIN, AVG, MAX.<br>\n",
    "\n",
    "Выведите минимальный (MinCheck), максимальный (MaxCheck) и средний (AvgCheck) чек по дням. В результирующей таблице используйте сортировку по убыванию (DESC) столбца BuyDate. Как и на предыдущем шаге, ограничение на вывод равно 10.</p>"
   ]
  },
  {
   "cell_type": "code",
   "execution_count": null,
   "id": "e493bf82-ddff-43f9-ae27-38ac7ef37ad1",
   "metadata": {},
   "outputs": [],
   "source": [
    "select \n",
    "    BuyDate,\n",
    "    min(Rub) as MinCheck,\n",
    "    max(Rub) as MaxCheck,\n",
    "    avg(Rub) as AvgCheck\n",
    "from checks\n",
    "group by BuyDate\n",
    "order by BuyDate desc\n",
    "limit 10"
   ]
  },
  {
   "cell_type": "markdown",
   "id": "cd28961b-6f97-4b22-ba79-ce671e69477b",
   "metadata": {},
   "source": [
    "<p><b>4</b><br>\n",
    "Представим, что для проведения новой акции нам потребовалось выгрузить сегмент пользователей, которые приносят наибольшую выручку.<br>\n",
    "\n",
    "Найдите покупателей, сумма покупок которых превышает 10 000 рублей (Rub). Для этого сгруппируйте пользователей по UserID, затем примените нужную агрегатную функцию и назовите новую колонку Revenue. Отфильтруйте нужные значения, результат отсортируйте по убыванию UserID и выведите 10 строк.</p>"
   ]
  },
  {
   "cell_type": "code",
   "execution_count": null,
   "id": "8810bf58-3bc8-4a28-8442-d80945dcc992",
   "metadata": {},
   "outputs": [],
   "source": [
    "select UserID,sum(Rub) as Revenue\n",
    "from checks\n",
    "group by UserID\n",
    "having sum(Rub) > 10000\n",
    "order by UserID desc\n",
    "limit 10"
   ]
  },
  {
   "cell_type": "markdown",
   "id": "34a3a666-e107-418f-9ac3-7d7bf9a12d2a",
   "metadata": {},
   "source": [
    "<p><b>5</b><br>\n",
    "В этой и последующих задачах мы будем работать с таблицей retail.<br>\n",
    "\n",
    "Таблица включает следующие поля:<br>\n",
    "\n",
    "· InvoiceNo — идентификатор покупки<br>\n",
    "· StockCode — идентификатор товара на складе<br>\n",
    "· Description — текстовое описание товара<br>\n",
    "· Quantity — количество товара<br>\n",
    "· InvoiceDate — дата покупки<br>\n",
    "· UnitPrice — цена товара<br>\n",
    "· CustomerID — идентификатор покупателя<br>\n",
    "· Country — страна<br>\n",
    "\n",
    "Представим, что к вам пришел менеджер с проблемой: за последний месяц он наблюдает снижение выручки в некоторых регионах и хочет определить возможную причину этого снижения. Для начала можно сгруппировать данные о выручке по странам и найти среди них топ-5 стран по величине выручки, так как интереснее всего нам будет смотреть именно на данные этих стран.<br>\n",
    "\n",
    "Посчитайте выручку (Revenue) по странам и отсортируйте таблицу в порядке убывания выручки.</p>"
   ]
  },
  {
   "cell_type": "code",
   "execution_count": null,
   "id": "4e5c6e07-32ff-4848-9a9e-6f206e4e2744",
   "metadata": {},
   "outputs": [],
   "source": [
    "select Country, sum(Quantity * UnitPrice) as Revenue\n",
    "from retail\n",
    "group by Country\n",
    "order by sum(Quantity * UnitPrice) desc\n",
    "limit 5"
   ]
  },
  {
   "cell_type": "markdown",
   "id": "bb71733b-de0d-4753-bfbe-04f8124300fd",
   "metadata": {},
   "source": [
    "<p><b>6</b><br>\n",
    "В качестве более подробного описания выручки по странам можно посмотреть, каково среднее количество купленных товаров и средняя цена товара в покупках, совершенных в определенной стране.<br>\n",
    "\n",
    "Посчитайте среднее число купленных товаров по стране и среднюю цену товара, сгруппировав данные по странам и используя агрегирующую функцию Avg, и отсортируйте по убыванию средней цены товара (DESC).<br>\n",
    "\n",
    "Обратите внимание, что в данных встречаются строки с Description 'Manual', которые включают данные об удаленных из чека позициях. Для получения правильного ответа такие строки необходимо отфильтровать с использованием операторов WHERE и неравенства !=.</p>"
   ]
  },
  {
   "cell_type": "code",
   "execution_count": null,
   "id": "3f18148b-91eb-4091-a08e-8d73c0b27ca4",
   "metadata": {},
   "outputs": [],
   "source": [
    "select\n",
    "    Country,\n",
    "    avg(Quantity) as AvgQuantity,\n",
    "    avg(UnitPrice) as AvgPrice\n",
    "from retail\n",
    "where Description <> 'Manual'\n",
    "group by Country\n",
    "order by avg(UnitPrice) desc"
   ]
  },
  {
   "cell_type": "markdown",
   "id": "78bc9943-ecac-4280-9791-84387d1249f1",
   "metadata": {},
   "source": [
    "<p><b>7</b><br>\n",
    "Теперь посмотрим на динамику общей суммы выручки по месяцам.<br>\n",
    "\n",
    "Посчитайте выручку (Revenue) по месяцам (обратите внимание, что в таблице указана цена одной единицы товара и количество купленного товара), округлив InvoiceDate к началу месяца с помощью toStartOfMonth().<br>\n",
    "\n",
    "Отсортируйте по убыванию (DESC) по столбцу Revenue.</p>"
   ]
  },
  {
   "cell_type": "code",
   "execution_count": null,
   "id": "fdabdf40-eb17-479b-b104-d7673cb295bc",
   "metadata": {},
   "outputs": [],
   "source": [
    "select\n",
    "    toStartOfMonth(InvoiceDate) as Month,\n",
    "    sum(Quantity * UnitPrice) as Revenue\n",
    "from retail\n",
    "where Description != 'Manual'\n",
    "group by toStartOfMonth(InvoiceDate)\n",
    "order by sum(Quantity * UnitPrice) desc"
   ]
  },
  {
   "cell_type": "markdown",
   "id": "a9c4427f-57f2-4ad0-90ce-e4ab82562f06",
   "metadata": {},
   "source": [
    "<p><b>8</b><br>\n",
    "Давайте посмотрим на динамику выручки от покупателей, которые в среднем покупают самые дорогие товары. В качестве целевой метрики будем использовать среднюю цену купленного товара (UnitPrice), данные посмотрим за март 2011 года.<br>\n",
    "\n",
    "Посчитайте среднюю цену товара клиента (UnitPrice) с группировкой по id покупателя, используя агрегирующую функцию Avg, затем выведите строки с покупками тех покупателей, у которых самая высокая средняя цена купленного товара в марте. Не забывайте отфильтровать строки по условию Description != 'Manual'. В качестве ответа впишите CustomerID покупателя с самой высокой средней ценой купленного товара.</p>"
   ]
  },
  {
   "cell_type": "code",
   "execution_count": null,
   "id": "14ea7e33-59f7-4c38-9d49-5517db742a31",
   "metadata": {},
   "outputs": [],
   "source": [
    "select\n",
    "    CustomerID,\n",
    "    avg(UnitPrice) as AvgPrice\n",
    "from retail\n",
    "where toStartOfMonth(InvoiceDate) = '2011-03-01' and Description != 'Manual'\n",
    "group by CustomerID\n",
    "order by avg(UnitPrice) desc\n",
    "limit 1"
   ]
  },
  {
   "cell_type": "markdown",
   "id": "8a44de64-2755-4b49-8121-c1bcad372127",
   "metadata": {},
   "source": [
    "<p><b>9</b><br>\n",
    "Давайте попробуем ответить на следующий вопрос: \"Как изменилось среднее, минимальное и максимальное количество купленного товара в стране с наибольшей выручкой в течение последних месяцев?\"<br>\n",
    "\n",
    "Для этого нужно сгруппировать данные по странам и месяцам, посчитать среднее (Avg), минимальное (Min) и максимальное (Max) количество купленных товаров (Quantity), и отсортировать данные по месяцу, применить фильтр по стране (нам нужны данные из страны с наибольшей выручкой из задания 8 (step 8)). Если обратить внимание на полученное значение минимального количества товаров, то станет понятно, что там есть отрицательные значения, которые следует отфильтровать (также не забывайте отфильтровывать значения с Description != 'Manual').</p>"
   ]
  },
  {
   "cell_type": "code",
   "execution_count": null,
   "id": "1f3dde0e-3142-4f94-a1d5-2b7b220b5f42",
   "metadata": {},
   "outputs": [],
   "source": [
    "select \n",
    "    toStartOfMonth(InvoiceDate) as Month,\n",
    "    avg(Quantity) as AvgQuantity,\n",
    "    min(Quantity) as MinQuantity,\n",
    "    max(Quantity) as MaxQuantity\n",
    "from retail\n",
    "where Description != 'Manual'\n",
    "group by toStartOfMonth(InvoiceDate)\n",
    "order by toStartOfMonth(InvoiceDate)"
   ]
  }
 ],
 "metadata": {
  "kernelspec": {
   "display_name": "Python 3 (ipykernel)",
   "language": "python",
   "name": "python3"
  },
  "language_info": {
   "codemirror_mode": {
    "name": "ipython",
    "version": 3
   },
   "file_extension": ".py",
   "mimetype": "text/x-python",
   "name": "python",
   "nbconvert_exporter": "python",
   "pygments_lexer": "ipython3",
   "version": "3.11.5"
  }
 },
 "nbformat": 4,
 "nbformat_minor": 5
}
